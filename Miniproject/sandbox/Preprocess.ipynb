{
 "cells": [
  {
   "cell_type": "code",
   "execution_count": 60,
   "metadata": {},
   "outputs": [
    {
     "name": "stdout",
     "output_type": "stream",
     "text": [
      "Numbers of categories: 12\n",
      "Black-grass: 263 images\n",
      "Charlock: 390 images\n",
      "Cleavers: 287 images\n",
      "Common-Chickweed: 611 images\n",
      "Common-wheat: 221 images\n",
      "Fat-Hen: 475 images\n",
      "Loose-Silky-bent: 654 images\n",
      "Maize: 221 images\n",
      "Scentless-Mayweed: 516 images\n",
      "Shepherds-Purse: 231 images\n",
      "Small-flowered-Cranesbill: 496 images\n",
      "Sugar-beet: 385 images\n",
      "The shape of train:  (4750, 3)\n"
     ]
    },
    {
     "data": {
      "text/html": [
       "<div>\n",
       "<style scoped>\n",
       "    .dataframe tbody tr th:only-of-type {\n",
       "        vertical-align: middle;\n",
       "    }\n",
       "\n",
       "    .dataframe tbody tr th {\n",
       "        vertical-align: top;\n",
       "    }\n",
       "\n",
       "    .dataframe thead th {\n",
       "        text-align: right;\n",
       "    }\n",
       "</style>\n",
       "<table border=\"1\" class=\"dataframe\">\n",
       "  <thead>\n",
       "    <tr style=\"text-align: right;\">\n",
       "      <th></th>\n",
       "      <th>file</th>\n",
       "      <th>category</th>\n",
       "      <th>category_id</th>\n",
       "    </tr>\n",
       "  </thead>\n",
       "  <tbody>\n",
       "    <tr>\n",
       "      <th>0</th>\n",
       "      <td>../data/train/Black-grass/4a3b96198.png</td>\n",
       "      <td>Black-grass</td>\n",
       "      <td>0</td>\n",
       "    </tr>\n",
       "    <tr>\n",
       "      <th>1</th>\n",
       "      <td>../data/train/Black-grass/39e9bf4c7.png</td>\n",
       "      <td>Black-grass</td>\n",
       "      <td>0</td>\n",
       "    </tr>\n",
       "  </tbody>\n",
       "</table>\n",
       "</div>"
      ],
      "text/plain": [
       "                                      file     category  category_id\n",
       "0  ../data/train/Black-grass/4a3b96198.png  Black-grass            0\n",
       "1  ../data/train/Black-grass/39e9bf4c7.png  Black-grass            0"
      ]
     },
     "execution_count": 60,
     "metadata": {},
     "output_type": "execute_result"
    }
   ],
   "source": [
    "# import the necessary packages\n",
    "%matplotlib inline\n",
    "import matplotlib.pyplot as plt\n",
    "import numpy as np\n",
    "import pandas as pd\n",
    "import os\n",
    "from sklearn.model_selection import train_test_split\n",
    "\n",
    "## Check data\n",
    "\n",
    "train_dir = \"../data/train\"\n",
    "\n",
    "CATEGORIES = ['Black-grass', 'Charlock', 'Cleavers', 'Common-Chickweed', 'Common-wheat', 'Fat-Hen', 'Loose-Silky-bent',\n",
    "              'Maize', 'Scentless-Mayweed', 'Shepherds-Purse', 'Small-flowered-Cranesbill', 'Sugar-beet']\n",
    "\n",
    "# check numbers of categories\n",
    "NumCatergories = len(CATEGORIES)\n",
    "print(\"Numbers of categories:\", NumCatergories)\n",
    "\n",
    "# check numbers of images\n",
    "for category in CATEGORIES:\n",
    "    print('{}: {} images'.format(category, len(os.listdir(os.path.join(train_dir, category)))))\n",
    "\n",
    "# creat a dataframe including filename_path, catagory and id\n",
    "train = []\n",
    "for category_id, category in enumerate(CATEGORIES):\n",
    "    for file in os.listdir(os.path.join(train_dir, category)):\n",
    "        train.append(['../data/train/{}/{}'.format(category, file), category, category_id])\n",
    "        \n",
    "train = pd.DataFrame(train, columns=['file', 'category','category_id'])\n",
    "print(\"The shape of train: \", train.shape)\n",
    "train.head(2)"
   ]
  },
  {
   "cell_type": "code",
   "execution_count": 61,
   "metadata": {},
   "outputs": [],
   "source": [
    "(train_x, test_x, train_y, test_y) = train_test_split(\n",
    "    train['file'], train['category'], test_size=0.20, random_state=27)"
   ]
  },
  {
   "cell_type": "code",
   "execution_count": 62,
   "metadata": {},
   "outputs": [],
   "source": [
    "from pathlib import Path\n",
    "import shutil\n",
    "\n",
    "PATH = Path('../data/')\n",
    "\n",
    "## create folder for val set\n",
    "(PATH/'val').mkdir(exist_ok=True)\n",
    "for i in CATEGORIES:\n",
    "    (PATH/'val'/i).mkdir(exist_ok=True)\n",
    "\n",
    "## move images to val set\n",
    "for i in range(len(test_x)):\n",
    "    shutil.move(list(test_x)[i], '../data/val/'+list(test_y)[i])"
   ]
  }
 ],
 "metadata": {
  "kernelspec": {
   "display_name": "Python3 (fastai)",
   "language": "python",
   "name": "python3_fastai"
  },
  "language_info": {
   "codemirror_mode": {
    "name": "ipython",
    "version": 3
   },
   "file_extension": ".py",
   "mimetype": "text/x-python",
   "name": "python",
   "nbconvert_exporter": "python",
   "pygments_lexer": "ipython3",
   "version": "3.6.8"
  }
 },
 "nbformat": 4,
 "nbformat_minor": 2
}
