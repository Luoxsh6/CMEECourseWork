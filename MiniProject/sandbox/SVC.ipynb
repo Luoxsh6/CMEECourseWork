{
 "cells": [
  {
   "cell_type": "code",
   "execution_count": 1,
   "metadata": {},
   "outputs": [],
   "source": [
    "# import the necessary packages\n",
    "%matplotlib inline\n",
    "import matplotlib.pyplot as plt\n",
    "from sklearn.model_selection import train_test_split\n",
    "import numpy as np\n",
    "import cv2\n",
    "import pandas as pd\n",
    "import os"
   ]
  },
  {
   "cell_type": "markdown",
   "metadata": {},
   "source": [
    "## Check data"
   ]
  },
  {
   "cell_type": "code",
   "execution_count": 2,
   "metadata": {},
   "outputs": [
    {
     "name": "stdout",
     "output_type": "stream",
     "text": [
      "Numbers of categories: 12\n",
      "Black-grass: 263 images\n",
      "Charlock: 390 images\n",
      "Cleavers: 287 images\n",
      "Common Chickweed: 611 images\n",
      "Common wheat: 221 images\n",
      "Fat Hen: 475 images\n",
      "Loose Silky-bent: 654 images\n",
      "Maize: 221 images\n",
      "Scentless Mayweed: 516 images\n",
      "Shepherds Purse: 231 images\n",
      "Small-flowered Cranesbill: 496 images\n",
      "Sugar beet: 385 images\n"
     ]
    }
   ],
   "source": [
    "train_dir = \"../data/train\"\n",
    "\n",
    "CATEGORIES = ['Black-grass', 'Charlock', 'Cleavers', 'Common Chickweed', 'Common wheat', 'Fat Hen', 'Loose Silky-bent',\n",
    "              'Maize', 'Scentless Mayweed', 'Shepherds Purse', 'Small-flowered Cranesbill', 'Sugar beet']\n",
    "\n",
    "# check numbers of categories\n",
    "NumCatergories = len(CATEGORIES)\n",
    "print(\"Numbers of categories:\", NumCatergories)\n",
    "\n",
    "# check numbers of images\n",
    "for category in CATEGORIES:\n",
    "    print('{}: {} images'.format(category, len(os.listdir(os.path.join(train_dir, category)))))"
   ]
  },
  {
   "cell_type": "code",
   "execution_count": 3,
   "metadata": {},
   "outputs": [
    {
     "name": "stdout",
     "output_type": "stream",
     "text": [
      "The shape of train:  (4750, 3)\n"
     ]
    },
    {
     "data": {
      "text/html": [
       "<div>\n",
       "<style scoped>\n",
       "    .dataframe tbody tr th:only-of-type {\n",
       "        vertical-align: middle;\n",
       "    }\n",
       "\n",
       "    .dataframe tbody tr th {\n",
       "        vertical-align: top;\n",
       "    }\n",
       "\n",
       "    .dataframe thead th {\n",
       "        text-align: right;\n",
       "    }\n",
       "</style>\n",
       "<table border=\"1\" class=\"dataframe\">\n",
       "  <thead>\n",
       "    <tr style=\"text-align: right;\">\n",
       "      <th></th>\n",
       "      <th>file</th>\n",
       "      <th>category</th>\n",
       "      <th>category_id</th>\n",
       "    </tr>\n",
       "  </thead>\n",
       "  <tbody>\n",
       "    <tr>\n",
       "      <th>0</th>\n",
       "      <td>../data/train/Black-grass/75ef53b3b.png</td>\n",
       "      <td>Black-grass</td>\n",
       "      <td>0</td>\n",
       "    </tr>\n",
       "    <tr>\n",
       "      <th>1</th>\n",
       "      <td>../data/train/Black-grass/ea85eb4a1.png</td>\n",
       "      <td>Black-grass</td>\n",
       "      <td>0</td>\n",
       "    </tr>\n",
       "  </tbody>\n",
       "</table>\n",
       "</div>"
      ],
      "text/plain": [
       "                                      file     category  category_id\n",
       "0  ../data/train/Black-grass/75ef53b3b.png  Black-grass            0\n",
       "1  ../data/train/Black-grass/ea85eb4a1.png  Black-grass            0"
      ]
     },
     "execution_count": 3,
     "metadata": {},
     "output_type": "execute_result"
    }
   ],
   "source": [
    "# creat a dataframe including filename_path, catagory and id\n",
    "train = []\n",
    "for category_id, category in enumerate(CATEGORIES):\n",
    "    for file in os.listdir(os.path.join(train_dir, category)):\n",
    "        train.append(['../data/train/{}/{}'.format(category, file), category, category_id])\n",
    "        \n",
    "train = pd.DataFrame(train, columns=['file', 'category','category_id'])\n",
    "print(\"The shape of train: \", train.shape)\n",
    "train.head(2)"
   ]
  },
  {
   "cell_type": "markdown",
   "metadata": {},
   "source": [
    "## Sample traning data"
   ]
  },
  {
   "cell_type": "code",
   "execution_count": 4,
   "metadata": {},
   "outputs": [
    {
     "name": "stdout",
     "output_type": "stream",
     "text": [
      "(2652, 3)\n"
     ]
    },
    {
     "data": {
      "text/html": [
       "<div>\n",
       "<style scoped>\n",
       "    .dataframe tbody tr th:only-of-type {\n",
       "        vertical-align: middle;\n",
       "    }\n",
       "\n",
       "    .dataframe tbody tr th {\n",
       "        vertical-align: top;\n",
       "    }\n",
       "\n",
       "    .dataframe thead th {\n",
       "        text-align: right;\n",
       "    }\n",
       "</style>\n",
       "<table border=\"1\" class=\"dataframe\">\n",
       "  <thead>\n",
       "    <tr style=\"text-align: right;\">\n",
       "      <th></th>\n",
       "      <th>file</th>\n",
       "      <th>category</th>\n",
       "      <th>category_id</th>\n",
       "    </tr>\n",
       "  </thead>\n",
       "  <tbody>\n",
       "    <tr>\n",
       "      <th>0</th>\n",
       "      <td>../data/train/Fat Hen/fa57ed595.png</td>\n",
       "      <td>Fat Hen</td>\n",
       "      <td>5</td>\n",
       "    </tr>\n",
       "    <tr>\n",
       "      <th>1</th>\n",
       "      <td>../data/train/Scentless Mayweed/8842741cb.png</td>\n",
       "      <td>Scentless Mayweed</td>\n",
       "      <td>8</td>\n",
       "    </tr>\n",
       "  </tbody>\n",
       "</table>\n",
       "</div>"
      ],
      "text/plain": [
       "                                            file           category  \\\n",
       "0            ../data/train/Fat Hen/fa57ed595.png            Fat Hen   \n",
       "1  ../data/train/Scentless Mayweed/8842741cb.png  Scentless Mayweed   \n",
       "\n",
       "   category_id  \n",
       "0            5  \n",
       "1            8  "
      ]
     },
     "execution_count": 4,
     "metadata": {},
     "output_type": "execute_result"
    }
   ],
   "source": [
    "# concat and sample traning data\n",
    "SAMPLE_PER_CATEGORY = min([len(os.listdir(os.path.join(train_dir, category))) for category in CATEGORIES])\n",
    "train = pd.concat([train[train['category'] == c][:SAMPLE_PER_CATEGORY] for c in CATEGORIES])\n",
    "train = train.sample(frac=1)   ##shuffle\n",
    "train.index = np.arange(len(train))\n",
    "print(train.shape)\n",
    "train.head(2)"
   ]
  },
  {
   "cell_type": "markdown",
   "metadata": {},
   "source": [
    "## Define pre-processing function"
   ]
  },
  {
   "cell_type": "code",
   "execution_count": 5,
   "metadata": {},
   "outputs": [],
   "source": [
    "def extract_HSV_histogram(image):\n",
    "    \"\"\"extract a 3D color histogram from the HSV color space using\n",
    "    the supplied number of `bins` per channel\"\"\"\n",
    "    hsv = cv2.cvtColor(image, cv2.COLOR_BGR2HSV)\n",
    "    Hist = []\n",
    "    for i in range(3):\n",
    "        hist = cv2.calcHist([hsv],[i],None,[128],[0,256])\n",
    "        Hist = np.append(Hist, hist) \n",
    "\n",
    "    # return the flattened histogram as the feature vector\n",
    "    return Hist.flatten()\n",
    "\n",
    "\n",
    "def create_mask_for_plant(image):\n",
    "    \"\"\"create a mask for the plants image\"\"\"\n",
    "    image_hsv = cv2.cvtColor(image, cv2.COLOR_BGR2HSV)\n",
    "\n",
    "    sensitivity = 35\n",
    "    lower_hsv = np.array([60 - sensitivity, 100, 50])\n",
    "    upper_hsv = np.array([60 + sensitivity, 255, 255])\n",
    "\n",
    "    mask = cv2.inRange(image_hsv, lower_hsv, upper_hsv)\n",
    "    kernel = cv2.getStructuringElement(cv2.MORPH_ELLIPSE, (11,11))\n",
    "    mask = cv2.morphologyEx(mask, cv2.MORPH_CLOSE, kernel)\n",
    "    return mask\n",
    "\n",
    "\n",
    "def segment_plant(image):\n",
    "    \"\"\"segement out the plants images using the mask\"\"\"\n",
    "    mask = create_mask_for_plant(image)\n",
    "    output = cv2.bitwise_and(image, image, mask = mask)\n",
    "    return output\n",
    "\n",
    "\n",
    "def sharpen_image(image):\n",
    "    \"\"\"sharpen image\"\"\"\n",
    "    image_blurred = cv2.GaussianBlur(image, (0, 0), 3)\n",
    "    image_sharp = cv2.addWeighted(image, 1.5, image_blurred, -0.5, 0)\n",
    "    return image_sharp"
   ]
  },
  {
   "cell_type": "markdown",
   "metadata": {},
   "source": [
    "## Load images"
   ]
  },
  {
   "cell_type": "code",
   "execution_count": 6,
   "metadata": {},
   "outputs": [
    {
     "name": "stdout",
     "output_type": "stream",
     "text": [
      "[INFO] processed 200/2652\n",
      "[INFO] processed 400/2652\n",
      "[INFO] processed 600/2652\n",
      "[INFO] processed 800/2652\n",
      "[INFO] processed 1000/2652\n",
      "[INFO] processed 1200/2652\n",
      "[INFO] processed 1400/2652\n",
      "[INFO] processed 1600/2652\n",
      "[INFO] processed 1800/2652\n",
      "[INFO] processed 2000/2652\n",
      "[INFO] processed 2200/2652\n",
      "[INFO] processed 2400/2652\n",
      "[INFO] processed 2600/2652\n",
      "[INFO] processed 2652/2652\n"
     ]
    }
   ],
   "source": [
    "# initialize the raw pixel intensities matrix, the features matrix,\n",
    "# and labels list\n",
    "\n",
    "HSVImages = []\n",
    "his_mask_HSV = []\n",
    "labels = []\n",
    "\n",
    "# loop over the input images\n",
    "for i, row in train.iterrows():\n",
    "    # load the image and extract the class label\n",
    "    # our images were named as labels.image_number.format\n",
    "    image = cv2.imread(row['file'])\n",
    "    # get the labels from the name of the images by extract the string before \".\"\n",
    "    label = row['category_id']\n",
    "\n",
    "    # extract raw pixel intensity \"features\"\n",
    "    #followed by a color histogram to characterize the color distribution of the pixels\n",
    "    # in the image\n",
    "    \n",
    "    resize_image = cv2.resize(image, (128, 128))\n",
    "\n",
    "    hsvimage = cv2.cvtColor(resize_image, cv2.COLOR_BGR2HSV).flatten()\n",
    "\n",
    "    \n",
    "    image_mask = create_mask_for_plant(resize_image)\n",
    "    image_mask_sharpen = sharpen_image(segment_plant(resize_image))\n",
    "    his_mask_hsv = extract_HSV_histogram(image_mask_sharpen)\n",
    "\n",
    "\n",
    "    # add the messages we got to the raw images, features, and labels matricies\n",
    "    HSVImages.append(hsvimage)\n",
    "    his_mask_HSV.append(his_mask_hsv)\n",
    "    labels.append(label)    \n",
    "\n",
    "    # show an update every 200 images until the last image\n",
    "    if i > 0 and ((i + 1)% 200 == 0 or i == train.shape[0]-1):\n",
    "        print(\"[INFO] processed {}/{}\".format(i+1, train.shape[0]))"
   ]
  },
  {
   "cell_type": "code",
   "execution_count": 7,
   "metadata": {},
   "outputs": [],
   "source": [
    "# show some information on the memory consumed by the raw images\n",
    "# matrix and features matrix\n",
    "HSVImages = np.array(HSVImages)\n",
    "his_mask_HSV = np.array(his_mask_HSV)\n",
    "labels = np.array(labels)"
   ]
  },
  {
   "cell_type": "code",
   "execution_count": 8,
   "metadata": {},
   "outputs": [],
   "source": [
    "# partition the data into training and testing splits, using 85%\n",
    "# of the data for training and the remaining 15% for testing\n",
    "(trainVI, testVI, trainVL, testVL) = train_test_split(\n",
    "    HSVImages, labels, test_size=0.15, random_state=27)\n",
    "(trainHMVI, testHMVI, trainHMVL, testHMVL) = train_test_split(\n",
    "    his_mask_HSV, labels, test_size=0.15, random_state=27)"
   ]
  },
  {
   "cell_type": "code",
   "execution_count": 9,
   "metadata": {},
   "outputs": [
    {
     "name": "stdout",
     "output_type": "stream",
     "text": [
      "[INFO] evaluating raw pixel accuracy...\n",
      "[INFO] HSVImages accuracy: 6.03%\n"
     ]
    }
   ],
   "source": [
    "## SVC\n",
    "from sklearn.svm import SVC\n",
    "print(\"[INFO] evaluating raw pixel accuracy...\")\n",
    "model = SVC(kernel='rbf',gamma='auto')\n",
    "model.fit(trainVI, trainVL)\n",
    "acc = model.score(testVI, testVL)\n",
    "print(\"[INFO] HSVImages accuracy: {:.2f}%\".format(acc * 100))"
   ]
  },
  {
   "cell_type": "code",
   "execution_count": 11,
   "metadata": {},
   "outputs": [
    {
     "name": "stdout",
     "output_type": "stream",
     "text": [
      "[INFO] evaluating histogram accuracy...\n",
      "[INFO] SVM-SVC histogram accuracy: 6.28%\n"
     ]
    }
   ],
   "source": [
    "#SVC\n",
    "print(\"[INFO] evaluating histogram accuracy...\")\n",
    "model = SVC(kernel='rbf',gamma='auto')\n",
    "model.fit(trainHMVI, trainHMVL)\n",
    "acc = model.score(testHMVI, testHMVL)\n",
    "print(\"[INFO] SVM-SVC histogram accuracy: {:.2f}%\".format(acc * 100))"
   ]
  },
  {
   "cell_type": "code",
   "execution_count": null,
   "metadata": {},
   "outputs": [],
   "source": []
  }
 ],
 "metadata": {
  "kernelspec": {
   "display_name": "Python3 (fastai)",
   "language": "python",
   "name": "python3_fastai"
  },
  "language_info": {
   "codemirror_mode": {
    "name": "ipython",
    "version": 3
   },
   "file_extension": ".py",
   "mimetype": "text/x-python",
   "name": "python",
   "nbconvert_exporter": "python",
   "pygments_lexer": "ipython3",
   "version": "3.6.8"
  }
 },
 "nbformat": 4,
 "nbformat_minor": 2
}
