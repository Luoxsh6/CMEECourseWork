{
 "cells": [
  {
   "cell_type": "code",
   "execution_count": 1,
   "metadata": {},
   "outputs": [],
   "source": [
    "# import the necessary packages\n",
    "%matplotlib inline\n",
    "import matplotlib.pyplot as plt\n",
    "from sklearn.model_selection import train_test_split\n",
    "import numpy as np\n",
    "import cv2\n",
    "import pandas as pd\n",
    "import os"
   ]
  },
  {
   "cell_type": "markdown",
   "metadata": {},
   "source": [
    "## Check data"
   ]
  },
  {
   "cell_type": "code",
   "execution_count": 154,
   "metadata": {},
   "outputs": [
    {
     "name": "stdout",
     "output_type": "stream",
     "text": [
      "Numbers of categories: 12\n",
      "Black-grass: 263 images\n",
      "Charlock: 390 images\n",
      "Cleavers: 287 images\n",
      "Common Chickweed: 611 images\n",
      "Common wheat: 221 images\n",
      "Fat Hen: 475 images\n",
      "Loose Silky-bent: 654 images\n",
      "Maize: 221 images\n",
      "Scentless Mayweed: 516 images\n",
      "Shepherds Purse: 231 images\n",
      "Small-flowered Cranesbill: 496 images\n",
      "Sugar beet: 385 images\n"
     ]
    }
   ],
   "source": [
    "train_dir = \"../data/train\"\n",
    "\n",
    "CATEGORIES = ['Black-grass', 'Charlock', 'Cleavers', 'Common Chickweed', 'Common wheat', 'Fat Hen', 'Loose Silky-bent',\n",
    "              'Maize', 'Scentless Mayweed', 'Shepherds Purse', 'Small-flowered Cranesbill', 'Sugar beet']\n",
    "\n",
    "# check numbers of categories\n",
    "NumCatergories = len(CATEGORIES)\n",
    "print(\"Numbers of categories:\", NumCatergories)\n",
    "\n",
    "# check numbers of images\n",
    "for category in CATEGORIES:\n",
    "    print('{}: {} images'.format(category, len(os.listdir(os.path.join(train_dir, category)))))"
   ]
  },
  {
   "cell_type": "code",
   "execution_count": 44,
   "metadata": {},
   "outputs": [
    {
     "name": "stdout",
     "output_type": "stream",
     "text": [
      "The shape of train:  (4750, 3)\n"
     ]
    },
    {
     "data": {
      "text/html": [
       "<div>\n",
       "<style scoped>\n",
       "    .dataframe tbody tr th:only-of-type {\n",
       "        vertical-align: middle;\n",
       "    }\n",
       "\n",
       "    .dataframe tbody tr th {\n",
       "        vertical-align: top;\n",
       "    }\n",
       "\n",
       "    .dataframe thead th {\n",
       "        text-align: right;\n",
       "    }\n",
       "</style>\n",
       "<table border=\"1\" class=\"dataframe\">\n",
       "  <thead>\n",
       "    <tr style=\"text-align: right;\">\n",
       "      <th></th>\n",
       "      <th>file</th>\n",
       "      <th>category</th>\n",
       "      <th>category_id</th>\n",
       "    </tr>\n",
       "  </thead>\n",
       "  <tbody>\n",
       "    <tr>\n",
       "      <th>0</th>\n",
       "      <td>../data/train/Black-grass/75ef53b3b.png</td>\n",
       "      <td>Black-grass</td>\n",
       "      <td>0</td>\n",
       "    </tr>\n",
       "    <tr>\n",
       "      <th>1</th>\n",
       "      <td>../data/train/Black-grass/ea85eb4a1.png</td>\n",
       "      <td>Black-grass</td>\n",
       "      <td>0</td>\n",
       "    </tr>\n",
       "  </tbody>\n",
       "</table>\n",
       "</div>"
      ],
      "text/plain": [
       "                                      file     category  category_id\n",
       "0  ../data/train/Black-grass/75ef53b3b.png  Black-grass            0\n",
       "1  ../data/train/Black-grass/ea85eb4a1.png  Black-grass            0"
      ]
     },
     "execution_count": 44,
     "metadata": {},
     "output_type": "execute_result"
    }
   ],
   "source": [
    "# creat a dataframe including filename_path, catagory and id\n",
    "train = []\n",
    "for category_id, category in enumerate(CATEGORIES):\n",
    "    for file in os.listdir(os.path.join(train_dir, category)):\n",
    "        train.append(['../data/train/{}/{}'.format(category, file), category, category_id])\n",
    "        \n",
    "train = pd.DataFrame(train, columns=['file', 'category','category_id'])\n",
    "print(\"The shape of train: \", train.shape)\n",
    "train.head(2)"
   ]
  },
  {
   "cell_type": "markdown",
   "metadata": {},
   "source": [
    "## Sample traning data"
   ]
  },
  {
   "cell_type": "code",
   "execution_count": 45,
   "metadata": {},
   "outputs": [
    {
     "name": "stdout",
     "output_type": "stream",
     "text": [
      "(2652, 3)\n"
     ]
    },
    {
     "data": {
      "text/html": [
       "<div>\n",
       "<style scoped>\n",
       "    .dataframe tbody tr th:only-of-type {\n",
       "        vertical-align: middle;\n",
       "    }\n",
       "\n",
       "    .dataframe tbody tr th {\n",
       "        vertical-align: top;\n",
       "    }\n",
       "\n",
       "    .dataframe thead th {\n",
       "        text-align: right;\n",
       "    }\n",
       "</style>\n",
       "<table border=\"1\" class=\"dataframe\">\n",
       "  <thead>\n",
       "    <tr style=\"text-align: right;\">\n",
       "      <th></th>\n",
       "      <th>file</th>\n",
       "      <th>category</th>\n",
       "      <th>category_id</th>\n",
       "    </tr>\n",
       "  </thead>\n",
       "  <tbody>\n",
       "    <tr>\n",
       "      <th>0</th>\n",
       "      <td>../data/train/Small-flowered Cranesbill/ae9b5d...</td>\n",
       "      <td>Small-flowered Cranesbill</td>\n",
       "      <td>10</td>\n",
       "    </tr>\n",
       "    <tr>\n",
       "      <th>1</th>\n",
       "      <td>../data/train/Fat Hen/d0c3b7610.png</td>\n",
       "      <td>Fat Hen</td>\n",
       "      <td>5</td>\n",
       "    </tr>\n",
       "  </tbody>\n",
       "</table>\n",
       "</div>"
      ],
      "text/plain": [
       "                                                file  \\\n",
       "0  ../data/train/Small-flowered Cranesbill/ae9b5d...   \n",
       "1                ../data/train/Fat Hen/d0c3b7610.png   \n",
       "\n",
       "                    category  category_id  \n",
       "0  Small-flowered Cranesbill           10  \n",
       "1                    Fat Hen            5  "
      ]
     },
     "execution_count": 45,
     "metadata": {},
     "output_type": "execute_result"
    }
   ],
   "source": [
    "# concat and sample traning data\n",
    "SAMPLE_PER_CATEGORY = min([len(os.listdir(os.path.join(train_dir, category))) for category in CATEGORIES])\n",
    "train = pd.concat([train[train['category'] == c][:SAMPLE_PER_CATEGORY] for c in CATEGORIES])\n",
    "train = train.sample(frac=1)   ##shuffle\n",
    "train.index = np.arange(len(train))\n",
    "print(train.shape)\n",
    "train.head(2)"
   ]
  },
  {
   "cell_type": "markdown",
   "metadata": {},
   "source": [
    "## Define pre-processing function"
   ]
  },
  {
   "cell_type": "code",
   "execution_count": 46,
   "metadata": {},
   "outputs": [],
   "source": [
    "def extract_HSV_histogram(image, bins=(32, 32, 32)):\n",
    "    \"\"\"extract a 3D color histogram from the HSV color space using\n",
    "    the supplied number of `bins` per channel\"\"\"\n",
    "    hsv = cv2.cvtColor(image, cv2.COLOR_BGR2HSV)\n",
    "    Hist = []\n",
    "    for i in range(3):\n",
    "        hist = cv2.calcHist([hsv],[i],None,[128],[0,256])\n",
    "        Hist = np.append(Hist, hist) \n",
    "\n",
    "    # return the flattened histogram as the feature vector\n",
    "    return Hist.flatten()\n",
    "\n",
    "\n",
    "def create_mask_for_plant(image):\n",
    "    \"\"\"create a mask for the plants image\"\"\"\n",
    "    image_hsv = cv2.cvtColor(image, cv2.COLOR_BGR2HSV)\n",
    "\n",
    "    sensitivity = 35\n",
    "    lower_hsv = np.array([60 - sensitivity, 100, 50])\n",
    "    upper_hsv = np.array([60 + sensitivity, 255, 255])\n",
    "\n",
    "    mask = cv2.inRange(image_hsv, lower_hsv, upper_hsv)\n",
    "    kernel = cv2.getStructuringElement(cv2.MORPH_ELLIPSE, (11,11))\n",
    "    mask = cv2.morphologyEx(mask, cv2.MORPH_CLOSE, kernel)\n",
    "    return mask\n",
    "\n",
    "\n",
    "def segment_plant(image):\n",
    "    \"\"\"segement out the plants images using the mask\"\"\"\n",
    "    mask = create_mask_for_plant(image)\n",
    "    output = cv2.bitwise_and(image, image, mask = mask)\n",
    "    return output\n",
    "\n",
    "\n",
    "def sharpen_image(image):\n",
    "    \"\"\"sharpen image\"\"\"\n",
    "    image_blurred = cv2.GaussianBlur(image, (0, 0), 3)\n",
    "    image_sharp = cv2.addWeighted(image, 1.5, image_blurred, -0.5, 0)\n",
    "    return image_sharp"
   ]
  },
  {
   "cell_type": "markdown",
   "metadata": {},
   "source": [
    "## Load images"
   ]
  },
  {
   "cell_type": "code",
   "execution_count": 80,
   "metadata": {},
   "outputs": [
    {
     "name": "stdout",
     "output_type": "stream",
     "text": [
      "[INFO] processed 200/2652\n",
      "[INFO] processed 400/2652\n",
      "[INFO] processed 600/2652\n",
      "[INFO] processed 800/2652\n",
      "[INFO] processed 1000/2652\n",
      "[INFO] processed 1200/2652\n",
      "[INFO] processed 1400/2652\n",
      "[INFO] processed 1600/2652\n",
      "[INFO] processed 1800/2652\n",
      "[INFO] processed 2000/2652\n",
      "[INFO] processed 2200/2652\n",
      "[INFO] processed 2400/2652\n",
      "[INFO] processed 2600/2652\n",
      "[INFO] processed 2652/2652\n"
     ]
    }
   ],
   "source": [
    "# initialize the raw pixel intensities matrix, the features matrix,\n",
    "# and labels list\n",
    "\n",
    "HSVImages = []\n",
    "his_mask_HSV = []\n",
    "labels = []\n",
    "\n",
    "# loop over the input images\n",
    "for i, row in train.iterrows():\n",
    "    # load the image and extract the class label\n",
    "    # our images were named as labels.image_number.format\n",
    "    image = cv2.imread(row['file'])\n",
    "    # get the labels from the name of the images by extract the string before \".\"\n",
    "    label = row['category_id']\n",
    "\n",
    "    # extract raw pixel intensity \"features\"\n",
    "    #followed by a color histogram to characterize the color distribution of the pixels\n",
    "    # in the image\n",
    "    \n",
    "    resize_image = cv2.resize(image, (128, 128))\n",
    "\n",
    "    hsvimage = cv2.cvtColor(resize_image, cv2.COLOR_BGR2HSV).flatten()\n",
    "\n",
    "    \n",
    "    image_mask = create_mask_for_plant(resize_image)\n",
    "    image_mask_sharpen = sharpen_image(segment_plant(resize_image))\n",
    "    his_mask_hsv = extract_HSV_histogram(image_mask_sharpen)\n",
    "\n",
    "\n",
    "    # add the messages we got to the raw images, features, and labels matricies\n",
    "    HSVImages.append(hsvimage)\n",
    "    his_mask_HSV.append(his_mask_hsv)\n",
    "    labels.append(label)    \n",
    "\n",
    "    # show an update every 200 images until the last image\n",
    "    if i > 0 and ((i + 1)% 200 == 0 or i == train.shape[0]-1):\n",
    "        print(\"[INFO] processed {}/{}\".format(i+1, train.shape[0]))"
   ]
  },
  {
   "cell_type": "code",
   "execution_count": 81,
   "metadata": {},
   "outputs": [],
   "source": [
    "# show some information on the memory consumed by the raw images\n",
    "# matrix and features matrix\n",
    "HSVImages = np.array(HSVImages)\n",
    "his_mask_HSV = np.array(his_mask_HSV)\n",
    "labels = np.array(labels)"
   ]
  },
  {
   "cell_type": "code",
   "execution_count": 146,
   "metadata": {},
   "outputs": [],
   "source": [
    "# partition the data into training and testing splits, using 85%\n",
    "# of the data for training and the remaining 15% for testing\n",
    "(trainVI, testVI, trainVL, testVL) = train_test_split(\n",
    "    HSVImages, labels, test_size=0.15, random_state=27)\n",
    "(trainHMVI, testHMVI, trainHMVL, testHMVL) = train_test_split(\n",
    "    his_mask_HSV, labels, test_size=0.15, random_state=27)"
   ]
  },
  {
   "cell_type": "markdown",
   "metadata": {},
   "source": [
    "## Random forest"
   ]
  },
  {
   "cell_type": "code",
   "execution_count": 50,
   "metadata": {},
   "outputs": [
    {
     "name": "stdout",
     "output_type": "stream",
     "text": [
      "[INFO] evaluating raw pixel accuracy...\n",
      "[INFO] HSVImages accuracy: 38.19%\n"
     ]
    }
   ],
   "source": [
    "## Random Forest\n",
    "from sklearn.ensemble import RandomForestClassifier\n",
    "print(\"[INFO] evaluating raw pixel accuracy...\")\n",
    "model = RandomForestClassifier(n_estimators =90, max_depth =3, random_state=27)\n",
    "model.fit(trainVI, trainVL) # 训练数据集\n",
    "acc = model.score(testVI, testVL)\n",
    "print(\"[INFO] HSVImages accuracy: {:.2f}%\".format(acc * 100))"
   ]
  },
  {
   "cell_type": "code",
   "execution_count": 51,
   "metadata": {},
   "outputs": [
    {
     "name": "stdout",
     "output_type": "stream",
     "text": [
      "[INFO] evaluating histogram accuracy...\n",
      "[INFO] his_mask_HSV histogram accuracy: 60.30%\n"
     ]
    }
   ],
   "source": [
    "## Random Forest\n",
    "print(\"[INFO] evaluating histogram accuracy...\")\n",
    "model = RandomForestClassifier(n_estimators =80, max_depth =3, random_state=27)\n",
    "model.fit(trainHMVI, trainHMVL) # 训练数据集\n",
    "acc = model.score(testHMVI, testHMVL)\n",
    "print(\"[INFO] his_mask_HSV histogram accuracy: {:.2f}%\".format(acc * 100))"
   ]
  },
  {
   "cell_type": "markdown",
   "metadata": {},
   "source": [
    "## Tunning"
   ]
  },
  {
   "cell_type": "markdown",
   "metadata": {},
   "source": [
    "### default"
   ]
  },
  {
   "cell_type": "code",
   "execution_count": 90,
   "metadata": {},
   "outputs": [
    {
     "name": "stdout",
     "output_type": "stream",
     "text": [
      "[INFO] his_mask_HSV histogram oob_scor: 67.39%\n",
      "[INFO] his_mask_HSV histogram accuracy: 77.14%\n"
     ]
    },
    {
     "name": "stderr",
     "output_type": "stream",
     "text": [
      "/home/xiaosheng/.local/lib/python3.6/site-packages/sklearn/ensemble/forest.py:248: FutureWarning: The default value of n_estimators will change from 10 in version 0.20 to 100 in 0.22.\n",
      "  \"10 in version 0.20 to 100 in 0.22.\", FutureWarning)\n",
      "/home/xiaosheng/.local/lib/python3.6/site-packages/sklearn/ensemble/forest.py:460: UserWarning: Some inputs do not have OOB scores. This probably means too few trees were used to compute any reliable oob estimates.\n",
      "  warn(\"Some inputs do not have OOB scores. \"\n",
      "/home/xiaosheng/.local/lib/python3.6/site-packages/sklearn/ensemble/forest.py:465: RuntimeWarning: invalid value encountered in true_divide\n",
      "  predictions[k].sum(axis=1)[:, np.newaxis])\n"
     ]
    }
   ],
   "source": [
    "rf0 = RandomForestClassifier(oob_score=True, random_state=27)\n",
    "rf0.fit(trainHMVI, trainHMVL)\n",
    "print (\"[INFO] his_mask_HSV histogram oob_scor: {:.2f}%\".format(rf0.oob_score_* 100))\n",
    "acc = rf0.score(testHMVI, testHMVL)\n",
    "print(\"[INFO] his_mask_HSV histogram accuracy: {:.2f}%\".format(acc * 100))"
   ]
  },
  {
   "cell_type": "code",
   "execution_count": 95,
   "metadata": {},
   "outputs": [
    {
     "name": "stdout",
     "output_type": "stream",
     "text": [
      "RandomForestClassifier(\n",
      "    [\"n_estimators='warn'\", \n",
      "     \"criterion='gini'\", \n",
      "     'max_depth=None', \n",
      "     'min_samples_split=2', \n",
      "     'min_samples_leaf=1', \n",
      "     'min_weight_fraction_leaf=0.0', \n",
      "     \"max_features='auto'\", \n",
      "     'max_leaf_nodes=None', \n",
      "     'min_impurity_decrease=0.0', \n",
      "     'min_impurity_split=None', \n",
      "     'bootstrap=True', \n",
      "     'oob_score=False', \n",
      "     'n_jobs=None', \n",
      "     'random_state=None', \n",
      "     'verbose=0', \n",
      "     'warm_start=False', \n",
      "     'class_weight=None'],\n",
      ")\n"
     ]
    }
   ],
   "source": [
    "print('''RandomForestClassifier(\n",
    "    [\"n_estimators='warn'\", \n",
    "     \"criterion='gini'\", \n",
    "     'max_depth=None', \n",
    "     'min_samples_split=2', \n",
    "     'min_samples_leaf=1', \n",
    "     'min_weight_fraction_leaf=0.0', \n",
    "     \"max_features='auto'\", \n",
    "     'max_leaf_nodes=None', \n",
    "     'min_impurity_decrease=0.0', \n",
    "     'min_impurity_split=None', \n",
    "     'bootstrap=True', \n",
    "     'oob_score=False', \n",
    "     'n_jobs=None', \n",
    "     'random_state=None', \n",
    "     'verbose=0', \n",
    "     'warm_start=False', \n",
    "     'class_weight=None'],\n",
    ")''')"
   ]
  },
  {
   "cell_type": "code",
   "execution_count": 141,
   "metadata": {},
   "outputs": [
    {
     "name": "stdout",
     "output_type": "stream",
     "text": [
      "[INFO] his_mask_HSV histogram oob_scor: 70.50%\n",
      "[INFO] his_mask_HSV histogram accuracy: 67.09%\n"
     ]
    }
   ],
   "source": [
    "rf1 = RandomForestClassifier(n_estimators= 180, max_depth=5, min_samples_split=2, max_features=9,\n",
    "                                  min_samples_leaf=10 ,oob_score=True, random_state=27)\n",
    "rf1.fit(trainHMVI, trainHMVL)\n",
    "print (\"[INFO] his_mask_HSV histogram oob_scor: {:.2f}%\".format(rf1.oob_score_* 100))\n",
    "acc = rf1.score(testHMVI, testHMVL)\n",
    "print(\"[INFO] his_mask_HSV histogram accuracy: {:.2f}%\".format(acc * 100))"
   ]
  },
  {
   "cell_type": "code",
   "execution_count": 142,
   "metadata": {},
   "outputs": [
    {
     "data": {
      "text/plain": [
       "array([[0, 0, 0, 0, 0, 0, 1, 0, 0, 0, 0, 0],\n",
       "       [1, 0, 0, 0, 0, 0, 0, 0, 0, 0, 0, 0],\n",
       "       [0, 0, 0, 0, 0, 1, 0, 0, 0, 0, 0, 0],\n",
       "       [0, 0, 0, 0, 0, 0, 0, 0, 0, 1, 0, 0]])"
      ]
     },
     "execution_count": 142,
     "metadata": {},
     "output_type": "execute_result"
    }
   ],
   "source": [
    "testHMVL = label_binarize(testHMVL, np.arange(12))\n",
    "testHMVL[0:4]"
   ]
  },
  {
   "cell_type": "code",
   "execution_count": 143,
   "metadata": {},
   "outputs": [
    {
     "name": "stdout",
     "output_type": "stream",
     "text": [
      "AUC Score (Train): 0.964616\n"
     ]
    }
   ],
   "source": [
    "y_predprob = rf0.predict_proba(testHMVI)\n",
    "print (\"AUC Score (Train): %f\" % metrics.roc_auc_score(testHMVL, y_predprob))"
   ]
  },
  {
   "cell_type": "code",
   "execution_count": 144,
   "metadata": {},
   "outputs": [
    {
     "name": "stdout",
     "output_type": "stream",
     "text": [
      "AUC Score (Train): 0.952585\n"
     ]
    }
   ],
   "source": [
    "y_predprob = rf1.predict_proba(testHMVI)\n",
    "print (\"AUC Score (Train): %f\" % metrics.roc_auc_score(testHMVL, y_predprob))"
   ]
  },
  {
   "cell_type": "markdown",
   "metadata": {},
   "source": [
    "### gridsearchcv"
   ]
  },
  {
   "cell_type": "code",
   "execution_count": 96,
   "metadata": {},
   "outputs": [],
   "source": [
    "## HLS Mask Histograms KNN Model evaluation\n",
    "from sklearn.metrics import roc_curve, auc \n",
    "from sklearn.preprocessing import label_binarize\n",
    "from sklearn.metrics import classification_report\n",
    "from sklearn import metrics"
   ]
  },
  {
   "cell_type": "code",
   "execution_count": 97,
   "metadata": {},
   "outputs": [],
   "source": [
    "from sklearn.model_selection import GridSearchCV"
   ]
  },
  {
   "cell_type": "code",
   "execution_count": 118,
   "metadata": {},
   "outputs": [],
   "source": [
    "testHMVL = label_binarize(testHMVL, np.arange(12))"
   ]
  },
  {
   "cell_type": "code",
   "execution_count": 120,
   "metadata": {},
   "outputs": [
    {
     "name": "stderr",
     "output_type": "stream",
     "text": [
      "/home/xiaosheng/.local/lib/python3.6/site-packages/sklearn/ensemble/forest.py:460: UserWarning: Some inputs do not have OOB scores. This probably means too few trees were used to compute any reliable oob estimates.\n",
      "  warn(\"Some inputs do not have OOB scores. \"\n",
      "/home/xiaosheng/.local/lib/python3.6/site-packages/sklearn/ensemble/forest.py:465: RuntimeWarning: invalid value encountered in true_divide\n",
      "  predictions[k].sum(axis=1)[:, np.newaxis])\n",
      "/home/xiaosheng/.local/lib/python3.6/site-packages/sklearn/ensemble/forest.py:460: UserWarning: Some inputs do not have OOB scores. This probably means too few trees were used to compute any reliable oob estimates.\n",
      "  warn(\"Some inputs do not have OOB scores. \"\n",
      "/home/xiaosheng/.local/lib/python3.6/site-packages/sklearn/ensemble/forest.py:465: RuntimeWarning: invalid value encountered in true_divide\n",
      "  predictions[k].sum(axis=1)[:, np.newaxis])\n",
      "/home/xiaosheng/.local/lib/python3.6/site-packages/sklearn/ensemble/forest.py:460: UserWarning: Some inputs do not have OOB scores. This probably means too few trees were used to compute any reliable oob estimates.\n",
      "  warn(\"Some inputs do not have OOB scores. \"\n",
      "/home/xiaosheng/.local/lib/python3.6/site-packages/sklearn/ensemble/forest.py:465: RuntimeWarning: invalid value encountered in true_divide\n",
      "  predictions[k].sum(axis=1)[:, np.newaxis])\n",
      "/home/xiaosheng/.local/lib/python3.6/site-packages/sklearn/ensemble/forest.py:460: UserWarning: Some inputs do not have OOB scores. This probably means too few trees were used to compute any reliable oob estimates.\n",
      "  warn(\"Some inputs do not have OOB scores. \"\n",
      "/home/xiaosheng/.local/lib/python3.6/site-packages/sklearn/ensemble/forest.py:465: RuntimeWarning: invalid value encountered in true_divide\n",
      "  predictions[k].sum(axis=1)[:, np.newaxis])\n",
      "/home/xiaosheng/.local/lib/python3.6/site-packages/sklearn/ensemble/forest.py:460: UserWarning: Some inputs do not have OOB scores. This probably means too few trees were used to compute any reliable oob estimates.\n",
      "  warn(\"Some inputs do not have OOB scores. \"\n",
      "/home/xiaosheng/.local/lib/python3.6/site-packages/sklearn/ensemble/forest.py:465: RuntimeWarning: invalid value encountered in true_divide\n",
      "  predictions[k].sum(axis=1)[:, np.newaxis])\n"
     ]
    },
    {
     "data": {
      "text/plain": [
       "({'n_estimators': 190}, 0.9595353325025986)"
      ]
     },
     "execution_count": 120,
     "metadata": {},
     "output_type": "execute_result"
    }
   ],
   "source": [
    "param_test1 = {'n_estimators':range(10,200,10)}\n",
    "gsearch1 = GridSearchCV(estimator = RandomForestClassifier(oob_score=True,random_state=27), \n",
    "                       param_grid = param_test1, scoring='roc_auc',cv=5)\n",
    "gsearch1.fit(testHMVI, testHMVL)\n",
    "gsearch1.best_params_, gsearch1.best_score_"
   ]
  },
  {
   "cell_type": "code",
   "execution_count": 126,
   "metadata": {},
   "outputs": [
    {
     "data": {
      "text/plain": [
       "({'max_depth': 13, 'min_samples_split': 2}, 0.9587939272588105)"
      ]
     },
     "execution_count": 126,
     "metadata": {},
     "output_type": "execute_result"
    }
   ],
   "source": [
    "param_test2 = {'max_depth':range(3,14,2), 'min_samples_split':range(2,50,2)}\n",
    "gsearch2 = GridSearchCV(estimator = RandomForestClassifier(n_estimators= 190,oob_score=True, random_state=27),\n",
    "   param_grid = param_test2, scoring='roc_auc', cv=5)\n",
    "gsearch2.fit(testHMVI, testHMVL)\n",
    "gsearch2.best_params_, gsearch2.best_score_"
   ]
  },
  {
   "cell_type": "code",
   "execution_count": 127,
   "metadata": {},
   "outputs": [
    {
     "data": {
      "text/plain": [
       "({'min_samples_leaf': 10, 'min_samples_split': 2}, 0.9394981133351217)"
      ]
     },
     "execution_count": 127,
     "metadata": {},
     "output_type": "execute_result"
    }
   ],
   "source": [
    "param_test3 = {'min_samples_split':range(2,50,2), 'min_samples_leaf':range(10,60,10)}\n",
    "gsearch3 = GridSearchCV(estimator = RandomForestClassifier(n_estimators= 190, max_depth=13, oob_score=True, random_state=27),\n",
    "   param_grid = param_test3, scoring='roc_auc', cv=5)\n",
    "gsearch3.fit(testHMVI, testHMVL)\n",
    "gsearch3.best_params_, gsearch3.best_score_"
   ]
  },
  {
   "cell_type": "code",
   "execution_count": 128,
   "metadata": {},
   "outputs": [
    {
     "data": {
      "text/plain": [
       "({'max_features': 9}, 0.937069347055419)"
      ]
     },
     "execution_count": 128,
     "metadata": {},
     "output_type": "execute_result"
    }
   ],
   "source": [
    "param_test4 = {'max_features':range(3,11,2)}\n",
    "gsearch4 = GridSearchCV(estimator = RandomForestClassifier(n_estimators= 180, max_depth=5, min_samples_split=2,\n",
    "                                  min_samples_leaf=10 ,oob_score=True, random_state=27),\n",
    "   param_grid = param_test4, scoring='roc_auc',iid=False, cv=5)\n",
    "gsearch4.fit(testHMVI, testHMVL)\n",
    "gsearch4.best_params_, gsearch4.best_score_"
   ]
  },
  {
   "cell_type": "markdown",
   "metadata": {},
   "source": [
    "## Report"
   ]
  },
  {
   "cell_type": "code",
   "execution_count": 147,
   "metadata": {},
   "outputs": [
    {
     "name": "stdout",
     "output_type": "stream",
     "text": [
      "[INFO] evaluating histogram accuracy...\n",
      "[INFO] his_mask_HSV histogram accuracy: 77.14%\n"
     ]
    },
    {
     "name": "stderr",
     "output_type": "stream",
     "text": [
      "/home/xiaosheng/.local/lib/python3.6/site-packages/sklearn/ensemble/forest.py:248: FutureWarning: The default value of n_estimators will change from 10 in version 0.20 to 100 in 0.22.\n",
      "  \"10 in version 0.20 to 100 in 0.22.\", FutureWarning)\n"
     ]
    }
   ],
   "source": [
    "## Random Forest\n",
    "print(\"[INFO] evaluating histogram accuracy...\")\n",
    "model = RandomForestClassifier(random_state=27)\n",
    "model.fit(trainHMVI, trainHMVL) # 训练数据集\n",
    "acc = model.score(testHMVI, testHMVL)\n",
    "print(\"[INFO] his_mask_HSV histogram accuracy: {:.2f}%\".format(acc * 100))"
   ]
  },
  {
   "cell_type": "code",
   "execution_count": 148,
   "metadata": {},
   "outputs": [
    {
     "name": "stdout",
     "output_type": "stream",
     "text": [
      "              precision    recall  f1-score   support\n",
      "\n",
      "           0       0.82      0.66      0.73        35\n",
      "           1       0.81      0.87      0.84        39\n",
      "           2       0.72      0.83      0.77        35\n",
      "           3       0.84      0.84      0.84        44\n",
      "           4       0.80      0.86      0.83        37\n",
      "           5       0.74      0.68      0.71        34\n",
      "           6       0.67      0.70      0.68        23\n",
      "           7       0.84      0.75      0.79        28\n",
      "           8       0.64      0.72      0.68        25\n",
      "           9       0.66      0.68      0.67        28\n",
      "          10       0.84      0.71      0.77        38\n",
      "          11       0.80      0.88      0.84        32\n",
      "\n",
      "   micro avg       0.77      0.77      0.77       398\n",
      "   macro avg       0.77      0.76      0.76       398\n",
      "weighted avg       0.78      0.77      0.77       398\n",
      "\n"
     ]
    }
   ],
   "source": [
    "print(classification_report(testHMVL, model.predict(testHMVI)))"
   ]
  },
  {
   "cell_type": "code",
   "execution_count": 149,
   "metadata": {},
   "outputs": [
    {
     "data": {
      "text/plain": [
       "array([[0.3, 0. , 0. , 0. , 0.1, 0. , 0.4, 0.1, 0. , 0. , 0. , 0.1],\n",
       "       [0.8, 0. , 0. , 0. , 0. , 0. , 0.2, 0. , 0. , 0. , 0. , 0. ],\n",
       "       [0. , 0. , 0.1, 0. , 0. , 0.5, 0.1, 0. , 0. , 0. , 0.1, 0.2],\n",
       "       [0. , 0. , 0. , 0.2, 0. , 0. , 0. , 0. , 0. , 0.6, 0.2, 0. ]])"
      ]
     },
     "execution_count": 149,
     "metadata": {},
     "output_type": "execute_result"
    }
   ],
   "source": [
    "y_score = model.predict_proba(testHMVI)\n",
    "y_score[0:4]"
   ]
  },
  {
   "cell_type": "code",
   "execution_count": 151,
   "metadata": {},
   "outputs": [],
   "source": [
    "testHMVL = label_binarize(testHMVL, np.arange(12))"
   ]
  },
  {
   "cell_type": "code",
   "execution_count": 152,
   "metadata": {},
   "outputs": [
    {
     "data": {
      "image/png": "[encoded data removed]",
      "text/plain": [
       "<Figure size 432x288 with 1 Axes>"
      ]
     },
     "metadata": {
      "needs_background": "light"
     },
     "output_type": "display_data"
    }
   ],
   "source": [
    "fpr, tpr, thresholds = metrics.roc_curve(testHMVL.ravel(),y_score.ravel())\n",
    "auc = metrics.auc(fpr, tpr)\n",
    "#FPR就是横坐标,TPR就是纵坐标\n",
    "plt.plot(fpr, tpr, c = 'r', lw = 2, alpha = 0.7, label = u'AUC=%.3f' % auc)\n",
    "plt.plot((0, 1), (0, 1), c = '#808080', lw = 1, ls = '--', alpha = 0.7)\n",
    "plt.xlim((-0.01, 1.02))\n",
    "plt.ylim((-0.01, 1.02))\n",
    "plt.xticks(np.arange(0, 1.1, 0.1))\n",
    "plt.yticks(np.arange(0, 1.1, 0.1))\n",
    "plt.xlabel('False Positive Rate', fontsize=13)\n",
    "plt.ylabel('True Positive Rate', fontsize=13)\n",
    "plt.grid(b=True, ls=':')\n",
    "plt.legend(loc='lower right', fancybox=True, framealpha=0.8, fontsize=12)\n",
    "plt.title(u'RF ROC curve', fontsize=17)\n",
    "plt.show() "
   ]
  },
  {
   "cell_type": "code",
   "execution_count": null,
   "metadata": {},
   "outputs": [],
   "source": []
  }
 ],
 "metadata": {
  "kernelspec": {
   "display_name": "Python3 (fastai)",
   "language": "python",
   "name": "python3_fastai"
  },
  "language_info": {
   "codemirror_mode": {
    "name": "ipython",
    "version": 3
   },
   "file_extension": ".py",
   "mimetype": "text/x-python",
   "name": "python",
   "nbconvert_exporter": "python",
   "pygments_lexer": "ipython3",
   "version": "3.6.8"
  }
 },
 "nbformat": 4,
 "nbformat_minor": 2
}
