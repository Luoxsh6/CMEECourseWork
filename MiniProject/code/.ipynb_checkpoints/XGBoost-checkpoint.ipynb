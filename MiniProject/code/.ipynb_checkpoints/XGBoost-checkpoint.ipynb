{
 "cells": [
  {
   "cell_type": "code",
   "execution_count": 1,
   "metadata": {
    "scrolled": true
   },
   "outputs": [],
   "source": [
    "# import the necessary packages\n",
    "%matplotlib inline\n",
    "import matplotlib.pyplot as plt\n",
    "from sklearn.model_selection import train_test_split\n",
    "import numpy as np\n",
    "import cv2\n",
    "import pandas as pd\n",
    "import os"
   ]
  },
  {
   "cell_type": "markdown",
   "metadata": {},
   "source": [
    "## Check data"
   ]
  },
  {
   "cell_type": "code",
   "execution_count": 2,
   "metadata": {},
   "outputs": [
    {
     "name": "stdout",
     "output_type": "stream",
     "text": [
      "Numbers of categories: 12\n",
      "Black-grass: 263 images\n",
      "Charlock: 390 images\n",
      "Cleavers: 287 images\n",
      "Common Chickweed: 611 images\n",
      "Common wheat: 221 images\n",
      "Fat Hen: 475 images\n",
      "Loose Silky-bent: 654 images\n",
      "Maize: 221 images\n",
      "Scentless Mayweed: 516 images\n",
      "Shepherds Purse: 231 images\n",
      "Small-flowered Cranesbill: 496 images\n",
      "Sugar beet: 385 images\n"
     ]
    }
   ],
   "source": [
    "train_dir = \"../data/train\"\n",
    "\n",
    "CATEGORIES = ['Black-grass', 'Charlock', 'Cleavers', 'Common Chickweed', 'Common wheat', 'Fat Hen', 'Loose Silky-bent',\n",
    "              'Maize', 'Scentless Mayweed', 'Shepherds Purse', 'Small-flowered Cranesbill', 'Sugar beet']\n",
    "\n",
    "# check numbers of categories\n",
    "NumCatergories = len(CATEGORIES)\n",
    "print(\"Numbers of categories:\", NumCatergories)\n",
    "\n",
    "# check numbers of images\n",
    "for category in CATEGORIES:\n",
    "    print('{}: {} images'.format(category, len(os.listdir(os.path.join(train_dir, category)))))"
   ]
  },
  {
   "cell_type": "code",
   "execution_count": 3,
   "metadata": {},
   "outputs": [
    {
     "name": "stdout",
     "output_type": "stream",
     "text": [
      "The shape of train:  (4750, 3)\n"
     ]
    },
    {
     "data": {
      "text/html": [
       "<div>\n",
       "<style scoped>\n",
       "    .dataframe tbody tr th:only-of-type {\n",
       "        vertical-align: middle;\n",
       "    }\n",
       "\n",
       "    .dataframe tbody tr th {\n",
       "        vertical-align: top;\n",
       "    }\n",
       "\n",
       "    .dataframe thead th {\n",
       "        text-align: right;\n",
       "    }\n",
       "</style>\n",
       "<table border=\"1\" class=\"dataframe\">\n",
       "  <thead>\n",
       "    <tr style=\"text-align: right;\">\n",
       "      <th></th>\n",
       "      <th>file</th>\n",
       "      <th>category</th>\n",
       "      <th>category_id</th>\n",
       "    </tr>\n",
       "  </thead>\n",
       "  <tbody>\n",
       "    <tr>\n",
       "      <th>0</th>\n",
       "      <td>../data/train/Black-grass/75ef53b3b.png</td>\n",
       "      <td>Black-grass</td>\n",
       "      <td>0</td>\n",
       "    </tr>\n",
       "    <tr>\n",
       "      <th>1</th>\n",
       "      <td>../data/train/Black-grass/ea85eb4a1.png</td>\n",
       "      <td>Black-grass</td>\n",
       "      <td>0</td>\n",
       "    </tr>\n",
       "  </tbody>\n",
       "</table>\n",
       "</div>"
      ],
      "text/plain": [
       "                                      file     category  category_id\n",
       "0  ../data/train/Black-grass/75ef53b3b.png  Black-grass            0\n",
       "1  ../data/train/Black-grass/ea85eb4a1.png  Black-grass            0"
      ]
     },
     "execution_count": 3,
     "metadata": {},
     "output_type": "execute_result"
    }
   ],
   "source": [
    "# creat a dataframe including filename_path, catagory and id\n",
    "train = []\n",
    "for category_id, category in enumerate(CATEGORIES):\n",
    "    for file in os.listdir(os.path.join(train_dir, category)):\n",
    "        train.append(['../data/train/{}/{}'.format(category, file), category, category_id])\n",
    "        \n",
    "train = pd.DataFrame(train, columns=['file', 'category','category_id'])\n",
    "print(\"The shape of train: \", train.shape)\n",
    "train.head(2)"
   ]
  },
  {
   "cell_type": "markdown",
   "metadata": {},
   "source": [
    "## Sample traning data"
   ]
  },
  {
   "cell_type": "code",
   "execution_count": 4,
   "metadata": {},
   "outputs": [
    {
     "name": "stdout",
     "output_type": "stream",
     "text": [
      "(2652, 3)\n"
     ]
    },
    {
     "data": {
      "text/html": [
       "<div>\n",
       "<style scoped>\n",
       "    .dataframe tbody tr th:only-of-type {\n",
       "        vertical-align: middle;\n",
       "    }\n",
       "\n",
       "    .dataframe tbody tr th {\n",
       "        vertical-align: top;\n",
       "    }\n",
       "\n",
       "    .dataframe thead th {\n",
       "        text-align: right;\n",
       "    }\n",
       "</style>\n",
       "<table border=\"1\" class=\"dataframe\">\n",
       "  <thead>\n",
       "    <tr style=\"text-align: right;\">\n",
       "      <th></th>\n",
       "      <th>file</th>\n",
       "      <th>category</th>\n",
       "      <th>category_id</th>\n",
       "    </tr>\n",
       "  </thead>\n",
       "  <tbody>\n",
       "    <tr>\n",
       "      <th>0</th>\n",
       "      <td>../data/train/Black-grass/f82d13d23.png</td>\n",
       "      <td>Black-grass</td>\n",
       "      <td>0</td>\n",
       "    </tr>\n",
       "    <tr>\n",
       "      <th>1</th>\n",
       "      <td>../data/train/Charlock/ddf0958d2.png</td>\n",
       "      <td>Charlock</td>\n",
       "      <td>1</td>\n",
       "    </tr>\n",
       "  </tbody>\n",
       "</table>\n",
       "</div>"
      ],
      "text/plain": [
       "                                      file     category  category_id\n",
       "0  ../data/train/Black-grass/f82d13d23.png  Black-grass            0\n",
       "1     ../data/train/Charlock/ddf0958d2.png     Charlock            1"
      ]
     },
     "execution_count": 4,
     "metadata": {},
     "output_type": "execute_result"
    }
   ],
   "source": [
    "# concat and sample traning data\n",
    "SAMPLE_PER_CATEGORY = min([len(os.listdir(os.path.join(train_dir, category))) for category in CATEGORIES])\n",
    "train = pd.concat([train[train['category'] == c][:SAMPLE_PER_CATEGORY] for c in CATEGORIES])\n",
    "train = train.sample(frac=1)   ##shuffle\n",
    "train.index = np.arange(len(train))\n",
    "print(train.shape)\n",
    "train.head(2)"
   ]
  },
  {
   "cell_type": "markdown",
   "metadata": {},
   "source": [
    "## Define pre-processing function"
   ]
  },
  {
   "cell_type": "code",
   "execution_count": 5,
   "metadata": {},
   "outputs": [],
   "source": [
    "def extract_HSV_histogram(image, bins=(32, 32, 32)):\n",
    "    \"\"\"extract a 3D color histogram from the HSV color space using\n",
    "    the supplied number of `bins` per channel\"\"\"\n",
    "    hsv = cv2.cvtColor(image, cv2.COLOR_BGR2HSV)\n",
    "    Hist = []\n",
    "    for i in range(3):\n",
    "        hist = cv2.calcHist([hsv],[i],None,[128],[0,256])\n",
    "        Hist = np.append(Hist, hist) \n",
    "\n",
    "    # return the flattened histogram as the feature vector\n",
    "    return Hist.flatten()\n",
    "\n",
    "\n",
    "def create_mask_for_plant(image):\n",
    "    \"\"\"create a mask for the plants image\"\"\"\n",
    "    image_hsv = cv2.cvtColor(image, cv2.COLOR_BGR2HSV)\n",
    "\n",
    "    sensitivity = 35\n",
    "    lower_hsv = np.array([60 - sensitivity, 100, 50])\n",
    "    upper_hsv = np.array([60 + sensitivity, 255, 255])\n",
    "\n",
    "    mask = cv2.inRange(image_hsv, lower_hsv, upper_hsv)\n",
    "    kernel = cv2.getStructuringElement(cv2.MORPH_ELLIPSE, (11,11))\n",
    "    mask = cv2.morphologyEx(mask, cv2.MORPH_CLOSE, kernel)\n",
    "    return mask\n",
    "\n",
    "\n",
    "def segment_plant(image):\n",
    "    \"\"\"segement out the plants images using the mask\"\"\"\n",
    "    mask = create_mask_for_plant(image)\n",
    "    output = cv2.bitwise_and(image, image, mask = mask)\n",
    "    return output\n",
    "\n",
    "\n",
    "def sharpen_image(image):\n",
    "    \"\"\"sharpen image\"\"\"\n",
    "    image_blurred = cv2.GaussianBlur(image, (0, 0), 3)\n",
    "    image_sharp = cv2.addWeighted(image, 1.5, image_blurred, -0.5, 0)\n",
    "    return image_sharp"
   ]
  },
  {
   "cell_type": "markdown",
   "metadata": {},
   "source": [
    "## Load images"
   ]
  },
  {
   "cell_type": "code",
   "execution_count": 6,
   "metadata": {},
   "outputs": [
    {
     "name": "stdout",
     "output_type": "stream",
     "text": [
      "[INFO] processed 200/2652\n",
      "[INFO] processed 400/2652\n",
      "[INFO] processed 600/2652\n",
      "[INFO] processed 800/2652\n",
      "[INFO] processed 1000/2652\n",
      "[INFO] processed 1200/2652\n",
      "[INFO] processed 1400/2652\n",
      "[INFO] processed 1600/2652\n",
      "[INFO] processed 1800/2652\n",
      "[INFO] processed 2000/2652\n",
      "[INFO] processed 2200/2652\n",
      "[INFO] processed 2400/2652\n",
      "[INFO] processed 2600/2652\n",
      "[INFO] processed 2652/2652\n"
     ]
    }
   ],
   "source": [
    "# initialize the raw pixel intensities matrix, the features matrix,\n",
    "# and labels list\n",
    "\n",
    "HSVImages = []\n",
    "his_mask_HSV = []\n",
    "labels = []\n",
    "\n",
    "# loop over the input images\n",
    "for i, row in train.iterrows():\n",
    "    # load the image and extract the class label\n",
    "    # our images were named as labels.image_number.format\n",
    "    image = cv2.imread(row['file'])\n",
    "    # get the labels from the name of the images by extract the string before \".\"\n",
    "    label = row['category_id']\n",
    "\n",
    "    # extract raw pixel intensity \"features\"\n",
    "    #followed by a color histogram to characterize the color distribution of the pixels\n",
    "    # in the image\n",
    "    \n",
    "    resize_image = cv2.resize(image, (128, 128))\n",
    "\n",
    "    hsvimage = cv2.cvtColor(resize_image, cv2.COLOR_BGR2HSV).flatten()\n",
    "\n",
    "    \n",
    "    image_mask = create_mask_for_plant(resize_image)\n",
    "    image_mask_sharpen = sharpen_image(segment_plant(resize_image))\n",
    "    his_mask_hsv = extract_HSV_histogram(image_mask_sharpen)\n",
    "\n",
    "\n",
    "    # add the messages we got to the raw images, features, and labels matricies\n",
    "    HSVImages.append(hsvimage)\n",
    "    his_mask_HSV.append(his_mask_hsv)\n",
    "    labels.append(label)    \n",
    "\n",
    "    # show an update every 200 images until the last image\n",
    "    if i > 0 and ((i + 1)% 200 == 0 or i == train.shape[0]-1):\n",
    "        print(\"[INFO] processed {}/{}\".format(i+1, train.shape[0]))"
   ]
  },
  {
   "cell_type": "code",
   "execution_count": 7,
   "metadata": {},
   "outputs": [],
   "source": [
    "# show some information on the memory consumed by the raw images\n",
    "# matrix and features matrix\n",
    "HSVImages = np.array(HSVImages)\n",
    "his_mask_HSV = np.array(his_mask_HSV)\n",
    "labels = np.array(labels)"
   ]
  },
  {
   "cell_type": "code",
   "execution_count": 70,
   "metadata": {},
   "outputs": [],
   "source": [
    "# partition the data into training and testing splits, using 85%\n",
    "# of the data for training and the remaining 15% for testing\n",
    "(trainVI, testVI, trainVL, testVL) = train_test_split(\n",
    "    HSVImages, labels, test_size=0.15, random_state=27)\n",
    "(trainHMVI, testHMVI, trainHMVL, testHMVL) = train_test_split(\n",
    "    his_mask_HSV, labels, test_size=0.15, random_state=27)"
   ]
  },
  {
   "cell_type": "markdown",
   "metadata": {},
   "source": [
    "## XGBoost"
   ]
  },
  {
   "cell_type": "code",
   "execution_count": 66,
   "metadata": {},
   "outputs": [],
   "source": [
    "import xgboost as xgb\n",
    "from xgboost.sklearn import XGBClassifier\n",
    "from sklearn.metrics import roc_curve, auc \n",
    "from sklearn.preprocessing import label_binarize\n",
    "from sklearn.metrics import classification_report\n",
    "from sklearn import metrics"
   ]
  },
  {
   "cell_type": "code",
   "execution_count": 67,
   "metadata": {},
   "outputs": [
    {
     "name": "stdout",
     "output_type": "stream",
     "text": [
      "[INFO] evaluating HSVImages accuracy...\n",
      "[INFO] HSVImages accuracy: 86.18%\n"
     ]
    }
   ],
   "source": [
    "# XGBoost\n",
    "params = {'learning_rate': 0.1, 'n_estimators': 500, 'max_depth': 5, 'min_child_weight': 1, 'seed': 0,\n",
    "                'subsample': 0.8, 'colsample_bytree': 0.8, 'gamma': 0, 'reg_alpha': 0, 'reg_lambda': 1}\n",
    "\n",
    "                                    \n",
    "print(\"[INFO] evaluating HSVImages accuracy...\")\n",
    "model = XGBClassifier(**params)\n",
    "model.fit(trainHMVI, trainHMVL)\n",
    "acc = model.score(testHMVI, testHMVL)\n",
    "print(\"[INFO] HSVImages accuracy: {:.2f}%\".format(acc * 100))"
   ]
  },
  {
   "cell_type": "code",
   "execution_count": 72,
   "metadata": {},
   "outputs": [
    {
     "data": {
      "text/plain": [
       "array([[0, 0, 0, 1, 0, 0, 0, 0, 0, 0, 0, 0],\n",
       "       [0, 1, 0, 0, 0, 0, 0, 0, 0, 0, 0, 0],\n",
       "       [0, 1, 0, 0, 0, 0, 0, 0, 0, 0, 0, 0],\n",
       "       [0, 0, 0, 0, 0, 0, 1, 0, 0, 0, 0, 0]])"
      ]
     },
     "execution_count": 72,
     "metadata": {},
     "output_type": "execute_result"
    }
   ],
   "source": [
    "testHMVL = label_binarize(testHMVL, np.arange(12))\n",
    "testHMVL[0:4]"
   ]
  },
  {
   "cell_type": "code",
   "execution_count": 69,
   "metadata": {},
   "outputs": [
    {
     "name": "stdout",
     "output_type": "stream",
     "text": [
      "AUC Score (Train): 0.986062\n"
     ]
    }
   ],
   "source": [
    "y_predprob = model.predict_proba(testHMVI)\n",
    "print (\"AUC Score (Train): %f\" % metrics.roc_auc_score(testHMVL, y_predprob))"
   ]
  },
  {
   "cell_type": "markdown",
   "metadata": {},
   "source": [
    "## Report"
   ]
  },
  {
   "cell_type": "code",
   "execution_count": 71,
   "metadata": {},
   "outputs": [
    {
     "name": "stdout",
     "output_type": "stream",
     "text": [
      "              precision    recall  f1-score   support\n",
      "\n",
      "           0       0.77      0.65      0.70        31\n",
      "           1       0.79      0.89      0.84        38\n",
      "           2       0.82      0.86      0.84        36\n",
      "           3       0.97      0.88      0.92        32\n",
      "           4       0.94      1.00      0.97        30\n",
      "           5       0.94      0.82      0.87        38\n",
      "           6       0.77      0.83      0.80        36\n",
      "           7       0.97      0.90      0.93        31\n",
      "           8       0.90      0.79      0.84        33\n",
      "           9       0.82      0.91      0.86        35\n",
      "          10       0.87      0.93      0.90        29\n",
      "          11       0.87      0.90      0.88        29\n",
      "\n",
      "   micro avg       0.86      0.86      0.86       398\n",
      "   macro avg       0.87      0.86      0.86       398\n",
      "weighted avg       0.87      0.86      0.86       398\n",
      "\n"
     ]
    }
   ],
   "source": [
    "print(classification_report(testHMVL, model.predict(testHMVI)))"
   ]
  },
  {
   "cell_type": "code",
   "execution_count": 73,
   "metadata": {},
   "outputs": [
    {
     "data": {
      "text/plain": [
       "array([[1.6293118e-03, 1.1048672e-03, 9.8755024e-04, 1.1978152e-01,\n",
       "        2.7206441e-04, 4.4891234e-03, 3.8289251e-03, 8.1101374e-04,\n",
       "        2.2398231e-03, 1.8887069e-02, 8.4561735e-01, 3.5131819e-04],\n",
       "       [9.6662545e-05, 9.9720025e-01, 5.4254307e-04, 3.3571421e-06,\n",
       "        1.6808122e-05, 9.5927657e-04, 3.3174023e-05, 2.8018840e-05,\n",
       "        5.7046138e-05, 1.3663602e-05, 1.9372402e-04, 8.5553015e-04],\n",
       "       [6.9030742e-05, 8.0634117e-01, 4.8091137e-04, 6.2372821e-04,\n",
       "        7.6326163e-05, 9.2146464e-04, 3.0793271e-05, 1.3931464e-01,\n",
       "        2.1511452e-04, 7.9530576e-04, 5.0506454e-02, 6.2505523e-04],\n",
       "       [2.5388131e-02, 7.1220302e-06, 1.8041941e-05, 1.1439111e-05,\n",
       "        2.5177220e-05, 3.7521677e-05, 9.7443831e-01, 8.6835898e-06,\n",
       "        2.0096935e-05, 1.3299032e-05, 2.6029475e-05, 6.1955566e-06]],\n",
       "      dtype=float32)"
      ]
     },
     "execution_count": 73,
     "metadata": {},
     "output_type": "execute_result"
    }
   ],
   "source": [
    "y_score = model.predict_proba(testHMVI)\n",
    "y_score[0:4]"
   ]
  },
  {
   "cell_type": "code",
   "execution_count": 74,
   "metadata": {},
   "outputs": [],
   "source": [
    "testHMVL = label_binarize(testHMVL, np.arange(12))"
   ]
  },
  {
   "cell_type": "code",
   "execution_count": 75,
   "metadata": {},
   "outputs": [
    {
     "data": {
      "image/png": "[encoded data removed]",
      "text/plain": [
       "<Figure size 432x288 with 1 Axes>"
      ]
     },
     "metadata": {
      "needs_background": "light"
     },
     "output_type": "display_data"
    }
   ],
   "source": [
    "fpr, tpr, thresholds = metrics.roc_curve(testHMVL.ravel(),y_score.ravel())\n",
    "auc = metrics.auc(fpr, tpr)\n",
    "#FPR就是横坐标,TPR就是纵坐标\n",
    "plt.plot(fpr, tpr, c = 'r', lw = 2, alpha = 0.7, label = u'AUC=%.3f' % auc)\n",
    "plt.plot((0, 1), (0, 1), c = '#808080', lw = 1, ls = '--', alpha = 0.7)\n",
    "plt.xlim((-0.01, 1.02))\n",
    "plt.ylim((-0.01, 1.02))\n",
    "plt.xticks(np.arange(0, 1.1, 0.1))\n",
    "plt.yticks(np.arange(0, 1.1, 0.1))\n",
    "plt.xlabel('False Positive Rate', fontsize=13)\n",
    "plt.ylabel('True Positive Rate', fontsize=13)\n",
    "plt.grid(b=True, ls=':')\n",
    "plt.legend(loc='lower right', fancybox=True, framealpha=0.8, fontsize=12)\n",
    "plt.title(u'RF ROC curve', fontsize=17)\n",
    "plt.show() "
   ]
  },
  {
   "cell_type": "code",
   "execution_count": null,
   "metadata": {},
   "outputs": [],
   "source": []
  }
 ],
 "metadata": {
  "kernelspec": {
   "display_name": "Python3 (fastai)",
   "language": "python",
   "name": "python3_fastai"
  },
  "language_info": {
   "codemirror_mode": {
    "name": "ipython",
    "version": 3
   },
   "file_extension": ".py",
   "mimetype": "text/x-python",
   "name": "python",
   "nbconvert_exporter": "python",
   "pygments_lexer": "ipython3",
   "version": "3.6.7"
  }
 },
 "nbformat": 4,
 "nbformat_minor": 2
}
